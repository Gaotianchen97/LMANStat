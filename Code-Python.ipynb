{
 "cells": [
  {
   "cell_type": "markdown",
   "id": "45e6b9e7",
   "metadata": {},
   "source": [
    "# Code-Python\n",
    "Tianchen Gao\n",
    "\n",
    "## Introduction\n",
    "This code uses a citation network as an example to demonstrate network construction, basic descriptive analysis, and visualization."
   ]
  },
  {
   "cell_type": "code",
   "execution_count": 16,
   "id": "7ef2712a",
   "metadata": {},
   "outputs": [],
   "source": [
    "import random\n",
    "import pandas as pd\n",
    "import networkx as nx\n",
    "import matplotlib.pyplot as plt"
   ]
  },
  {
   "cell_type": "markdown",
   "id": "7c30d55b",
   "metadata": {},
   "source": [
    "## Construct Citation Network"
   ]
  },
  {
   "cell_type": "code",
   "execution_count": 5,
   "id": "2811a571",
   "metadata": {},
   "outputs": [
    {
     "data": {
      "text/plain": [
       "<networkx.classes.digraph.DiGraph at 0x2bef53d72b0>"
      ]
     },
     "execution_count": 5,
     "metadata": {},
     "output_type": "execute_result"
    }
   ],
   "source": [
    "# Read in the edge data (citation network)\n",
    "citation = pd.read_csv(\"Edgelist_citation_network.csv\")\n",
    "\n",
    "# Filter by year (2000-2005)\n",
    "citation = citation[(citation[\"Year\"] <= 2005) & (citation[\"Year\"] >= 2000)]\n",
    "\n",
    "# Construct the citation network\n",
    "g = nx.from_pandas_edgelist(citation, source=\"Source\", target=\"Target\", create_using=nx.DiGraph)\n",
    "\n",
    "# View the network\n",
    "g"
   ]
  },
  {
   "cell_type": "markdown",
   "id": "e0615455",
   "metadata": {},
   "source": [
    "## Descriptive Analysis\n",
    "### Basic"
   ]
  },
  {
   "cell_type": "code",
   "execution_count": 6,
   "id": "951aba6c",
   "metadata": {},
   "outputs": [
    {
     "name": "stdout",
     "output_type": "stream",
     "text": [
      "Number of nodes: 23395\n",
      "Number of edges: 63545\n",
      "Network density: 0.0001161057822799061\n",
      "Minimum degree: 1\n",
      "Maximum degree: 259\n"
     ]
    }
   ],
   "source": [
    "# Number of nodes and edges in the network\n",
    "num_nodes = g.number_of_nodes()\n",
    "num_edges = g.number_of_edges()\n",
    "print(\"Number of nodes:\", num_nodes)\n",
    "print(\"Number of edges:\", num_edges)\n",
    "\n",
    "# Network density\n",
    "density = nx.density(g)\n",
    "print(\"Network density:\", density)\n",
    "\n",
    "# Node degree\n",
    "degrees = dict(g.degree())\n",
    "# Minimum and maximum degree values\n",
    "min_degree = min(degrees.values())\n",
    "max_degree = max(degrees.values())\n",
    "print(\"Minimum degree:\", min_degree)\n",
    "print(\"Maximum degree:\", max_degree)"
   ]
  },
  {
   "cell_type": "markdown",
   "id": "f1d0f80c",
   "metadata": {},
   "source": [
    "### Degree Distribution "
   ]
  },
  {
   "cell_type": "code",
   "execution_count": 8,
   "id": "5d7470a0",
   "metadata": {},
   "outputs": [
    {
     "data": {
      "image/png": "[encoded data removed]",
      "text/plain": [
       "<Figure size 720x360 with 2 Axes>"
      ]
     },
     "metadata": {
      "needs_background": "light"
     },
     "output_type": "display_data"
    }
   ],
   "source": [
    "# Set up the canvas\n",
    "plt.figure(figsize=(10, 5))\n",
    "\n",
    "# Plot degree distribution histogram\n",
    "plt.subplot(1, 2, 1)\n",
    "plt.hist(list(dict(g.degree()).values()), bins='auto')\n",
    "plt.xlabel(\"Degree\")\n",
    "plt.ylabel(\"Frequency\")\n",
    "\n",
    "# Plot double-log degree distribution graph\n",
    "plt.subplot(1, 2, 2)\n",
    "degrees = list(dict(g.degree()).values())\n",
    "degree_counts = {degree: degrees.count(degree) for degree in degrees}\n",
    "x = [degree for degree, count in degree_counts.items()]\n",
    "y = [count for degree, count in degree_counts.items()]\n",
    "plt.loglog(x, y, 'o')\n",
    "plt.xlabel(\"Log-Degree\")\n",
    "plt.ylabel(\"Log-Count\")\n",
    "plt.tight_layout()\n",
    "plt.show()"
   ]
  },
  {
   "cell_type": "markdown",
   "id": "66de7c71",
   "metadata": {},
   "source": [
    "### Centrality"
   ]
  },
  {
   "cell_type": "code",
   "execution_count": 15,
   "id": "9d622975",
   "metadata": {},
   "outputs": [
    {
     "name": "stdout",
     "output_type": "stream",
     "text": [
      "Degree centrality:\n",
      "{'Paper_2': 8.54920064973925e-05, 'Paper_21959': 4.274600324869625e-05, 'Paper_21798': 4.274600324869625e-05, 'Paper_3': 0.00021373001624348125, 'Paper_378': 0.000170984012994785}\n",
      "Closeness centrality:\n",
      "{'Paper_2': 0.0, 'Paper_21959': 4.274600324869625e-05, 'Paper_21798': 4.274600324869625e-05, 'Paper_3': 0.0, 'Paper_378': 0.0001781083468695677}\n",
      "Betweenness centrality:\n",
      "{'Paper_2': 0.0, 'Paper_21959': 0.0, 'Paper_21798': 0.0, 'Paper_3': 0.0, 'Paper_378': 0.0}\n"
     ]
    }
   ],
   "source": [
    "# Degree centrality\n",
    "degree_cent = nx.degree_centrality(g)\n",
    "print(\"Degree centrality:\")\n",
    "print(dict(list(degree_cent.items())[:5]))  # Print the top 5 nodes\n",
    "\n",
    "# Closeness centrality\n",
    "closeness_cent = nx.closeness_centrality(g)\n",
    "print(\"Closeness centrality:\")\n",
    "print(dict(list(closeness_cent.items())[:5]))  # Print the top 5 nodes\n",
    "\n",
    "# Betweenness centrality\n",
    "betweenness_cent = nx.betweenness_centrality(g)\n",
    "print(\"Betweenness centrality:\")\n",
    "print(dict(list(betweenness_cent.items())[:5]))  # Print the top 5 nodes"
   ]
  },
  {
   "cell_type": "markdown",
   "id": "916f2487",
   "metadata": {},
   "source": [
    "### Neighbors"
   ]
  },
  {
   "cell_type": "code",
   "execution_count": 18,
   "id": "2ae380f1",
   "metadata": {},
   "outputs": [
    {
     "name": "stdout",
     "output_type": "stream",
     "text": [
      "['Paper_2155', 'Paper_2565', 'Paper_4765', 'Paper_2939', 'Paper_23962', 'Paper_1181', 'Paper_4029', 'Paper_2417', 'Paper_9044', 'Paper_23040', 'Paper_4401']\n"
     ]
    }
   ],
   "source": [
    "neighbors = list(g.neighbors('Paper_4'))\n",
    "print(neighbors)"
   ]
  },
  {
   "cell_type": "markdown",
   "id": "aa2890c7",
   "metadata": {},
   "source": [
    "### Ego Network"
   ]
  },
  {
   "cell_type": "code",
   "execution_count": 19,
   "id": "48b56c76",
   "metadata": {},
   "outputs": [
    {
     "name": "stdout",
     "output_type": "stream",
     "text": [
      "[3, 1, 1, 6, 1, 1, 1, 1, 1, 12, 1, 1, 1, 1, 1, 1, 1, 1, 1, 1]\n"
     ]
    }
   ],
   "source": [
    "# Extract node neighborhoods\n",
    "gn = [nx.ego_graph(g, n, radius=1) for n in g.nodes()]\n",
    "\n",
    "# Display the number of nodes in the subgraph of the first 20 node neighborhoods\n",
    "node_counts = [len(subgraph.nodes()) for subgraph in gn[:20]]\n",
    "print(node_counts)"
   ]
  },
  {
   "cell_type": "markdown",
   "id": "f28e2f81",
   "metadata": {},
   "source": [
    "## Visualization"
   ]
  },
  {
   "cell_type": "code",
   "execution_count": 25,
   "id": "02d4bd64",
   "metadata": {},
   "outputs": [
    {
     "data": {
      "image/png": "[encoded data removed]",
      "text/plain": [
       "<Figure size 576x432 with 1 Axes>"
      ]
     },
     "metadata": {},
     "output_type": "display_data"
    }
   ],
   "source": [
    "# Extract node neighborhoods\n",
    "gn = nx.ego_graph(g, \"Paper_4\", radius=1)\n",
    "\n",
    "# Plotting the 1st order neighborhood subgraph of node \"Paper_4\"\n",
    "plt.figure(figsize=(8, 6))\n",
    "pos = nx.spring_layout(gn, k=0.15, iterations=50)  # Fruchterman-Reingold layout\n",
    "nx.draw_networkx_nodes(gn, pos, node_size=100)\n",
    "nx.draw_networkx_labels(gn, pos, font_size=8)\n",
    "nx.draw_networkx_edges(gn, pos)\n",
    "plt.axis('off')\n",
    "plt.show()"
   ]
  }
 ],
 "metadata": {
  "kernelspec": {
   "display_name": "Python 3",
   "language": "python",
   "name": "python3"
  },
  "language_info": {
   "codemirror_mode": {
    "name": "ipython",
    "version": 3
   },
   "file_extension": ".py",
   "mimetype": "text/x-python",
   "name": "python",
   "nbconvert_exporter": "python",
   "pygments_lexer": "ipython3",
   "version": "3.8.8"
  }
 },
 "nbformat": 4,
 "nbformat_minor": 5
}
